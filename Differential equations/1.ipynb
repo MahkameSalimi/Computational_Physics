{
 "cells": [
  {
   "cell_type": "code",
   "execution_count": 22,
   "metadata": {},
   "outputs": [],
   "source": [
    "import matplotlib.pyplot as plt\n",
    "import numpy as np"
   ]
  },
  {
   "cell_type": "code",
   "execution_count": 50,
   "metadata": {},
   "outputs": [
    {
     "name": "stderr",
     "output_type": "stream",
     "text": [
      "/home/mahkame/anaconda3/lib/python3.7/site-packages/ipykernel_launcher.py:12: RuntimeWarning: overflow encountered in double_scalars\n",
      "  if sys.path[0] == '':\n"
     ]
    },
    {
     "data": {
      "image/png": "[encoded data removed]",
      "text/plain": [
       "<Figure size 432x288 with 1 Axes>"
      ]
     },
     "metadata": {
      "needs_background": "light"
     },
     "output_type": "display_data"
    }
   ],
   "source": [
    "R= [0]\n",
    "\n",
    "fig, ax = plt.subplots()\n",
    "for j in range (1000):\n",
    "    R.append(R[j]+0.001)\n",
    "R = np.array(R)\n",
    "for r in R:\n",
    "    for x0 in [0.1,0.2,0.3,0.4,0.5,.6,0.7,0.8,0.9]:\n",
    "        x = [x0]\n",
    "        for i in range(400):\n",
    "            x.append(4*r*x[i]*(1-x[i]))\n",
    "        if i >300:\n",
    "            ax.plot(r,x[i+1],',k', alpha=.25)    \n",
    "plt.xlabel(\" r\")\n",
    "plt.ylabel(\" x \")\n",
    "plt.show()"
   ]
  },
  {
   "cell_type": "code",
   "execution_count": null,
   "metadata": {},
   "outputs": [],
   "source": []
  }
 ],
 "metadata": {
  "kernelspec": {
   "display_name": "Python 3",
   "language": "python",
   "name": "python3"
  },
  "language_info": {
   "codemirror_mode": {
    "name": "ipython",
    "version": 3
   },
   "file_extension": ".py",
   "mimetype": "text/x-python",
   "name": "python",
   "nbconvert_exporter": "python",
   "pygments_lexer": "ipython3",
   "version": "3.7.3"
  }
 },
 "nbformat": 4,
 "nbformat_minor": 2
}
